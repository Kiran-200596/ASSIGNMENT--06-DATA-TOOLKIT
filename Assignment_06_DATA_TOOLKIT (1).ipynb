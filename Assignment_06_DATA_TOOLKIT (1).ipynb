{
  "nbformat": 4,
  "nbformat_minor": 0,
  "metadata": {
    "colab": {
      "provenance": []
    },
    "kernelspec": {
      "name": "python3",
      "display_name": "Python 3"
    },
    "language_info": {
      "name": "python"
    }
  },
  "cells": [
    {
      "cell_type": "markdown",
      "source": [
        "***THEORETICAL QUESTIONS***"
      ],
      "metadata": {
        "id": "5v9_WR1EDHbj"
      }
    },
    {
      "cell_type": "markdown",
      "source": [
        "1.  What is NumPy, and why is it widely used in Python ?\n",
        "\n",
        "    Numpy means numerical python , which is a library used to perform numerical functionalities or tasks related to statistics , linear algebraic operations etc..\n",
        "    Its wide usage has made Numpy the most used library and the usages are :\n",
        "    - efficient array operations.\n",
        "    - integration with other libraries.\n",
        "    - mathematical functions.\n",
        "    - memory utilisation\n",
        "    - convenience"
      ],
      "metadata": {
        "id": "kcCamz-7DOe7"
      }
    },
    {
      "cell_type": "markdown",
      "source": [
        "2.  How does broadcasting work in NumPy ?\n",
        "\n",
        "    Broadcasting is the process by which NumPy automatically expands arrays of different shapes during arithmetic operations without making unnecessary copies of data.\n",
        "    - It allows you to perform element-wise operations on arrays of different sizes.\n",
        "     \n",
        "    **Broadcasting rules:**\n",
        "    - When performing operations on two arrays, NumPy compares their shapes element by element from right to left:\n",
        "        - If the dimensions are equal, they are compatible.\n",
        "        - If one of the dimensions is 1, it can be \"stretched\" (broadcasted) to match the other.\n",
        "        - If dimensions do not match and none is 1, it raises an error."
      ],
      "metadata": {
        "id": "_ZA_AIt3Dbi1"
      }
    },
    {
      "cell_type": "markdown",
      "source": [
        " 3. What is a Pandas DataFrame ?\n",
        "\n",
        "    A Pandas DataFrame is a two-dimensional, tabular data structure in Python, provided by the Pandas library.\n",
        "\n",
        "    - excample:\n",
        "              import pandas as pd\n",
        "              data = {\n",
        "                 'Name': ['Alice', 'Bob', 'Charlie'],\n",
        "                 'Age': [25, 30, 35],\n",
        "                 'City': ['New York', 'London', 'Paris']\n",
        "                     }\n",
        "                 df = pd.DataFrame(data)\n",
        "                 print(df)\n"
      ],
      "metadata": {
        "id": "2z3wbYR4DbuH"
      }
    },
    {
      "cell_type": "markdown",
      "source": [
        "4.  Explain the use of the groupby( ) method in Pandas.\n",
        "\n",
        "    The groupby( ) method in Pandas is used to split data into groups based on some criteria (usually column values), and then apply a function (like sum, mean, count, etc.) to each group.\n",
        "    Use of groupby( ) method:\n",
        "    - Helps in data summarization (like pivot tables in Excel). - - Useful for statistical analysis and aggregations.\n",
        "    - Essential in exploratory data analysis (EDA).\n"
      ],
      "metadata": {
        "id": "R4KsvqFODbyE"
      }
    },
    {
      "cell_type": "markdown",
      "source": [
        "5.  Why is Seaborn preferred for statistical visualizations?\n",
        "   \n",
        "    Seaborn is a Python data visualization library built on top of Matplotlib.\n",
        "      - It is widely used in data science, statistics, and machine learning projects because it provides high-level, easy-to-use functions for creating beautiful and informative statistical plots.\n",
        "\n",
        "    Reasons why Seaborn is preferred:\n",
        "     - Built-in Support for Statistical Plots : Seaborn has ready-made functions for common statistical visualizations like:\n",
        "         - sns.histplot() : histograms\n",
        "         - sns.boxplot() : distribution + outliers\n",
        "         - sns.violinplot() :  distribution + density\n",
        "         - sns.regplot() : regression line with confidence interval\n",
        "         - sns.heatmap() : correlation matrices\n",
        "         \n",
        "     -  Better Default Aesthetics: Seaborn provides attractive default styles and color palettes, so plots look professional and publication-ready without much customization.\n",
        "\n",
        "     - Integration with Pandas:\n",
        "          - Works seamlessly with Pandas DataFrames.\n",
        "          - You can directly pass column names instead of manually extracting data.\n",
        "          - This reduces boilerplate code when working with structured/tabular data.\n"
      ],
      "metadata": {
        "id": "FHwm-uz_Db-S"
      }
    },
    {
      "cell_type": "markdown",
      "source": [
        "6.  What are the differences between NumPy arrays and Python lists?\n",
        "\n",
        "    ***- Python Lists:***\n",
        "      - Type of elements : Can store mixed data types (int, float, str, objects, etc.)\n",
        "      - Performance : Slower, because each element is a Python object with extra overhead.\n",
        "      - Functionality :\tLimited for numerical computations.\n",
        "      - Indexing & Slicing : \tSupports slicing but slower\n",
        "      - Broadcasting :\tNot supported\n",
        "      - Use Case : General-purpose collection\n",
        "\n",
        "    ***-Numpy Arrays:***\n",
        "      - Type of elements : Stores only one data type (homogeneous) for efficiency.\n",
        "      - Performance : Much faster (written in C, uses contiguous memory blocks)\n",
        "      - Functionality :\tRich set of mathematical, linear algebra, statistical functions\n",
        "      - Indexing & Slicing :  Supports slicing, fancy indexing, masking.\n",
        "      - Broadcasting :\tFully supports broadcasting.\n",
        "      - Use Case : Numerical & scientific computing\n",
        "\n"
      ],
      "metadata": {
        "id": "Rf321F_aDcG5"
      }
    },
    {
      "cell_type": "markdown",
      "source": [
        "7.  What is a heatmap, and when should it be used ?\n",
        "\n",
        "    A heatmap is a data visualization technique that represents values in a matrix or 2D data structure using color intensity.\n",
        "    \n",
        "    - Darker or brighter colors = higher values.\n",
        "    - Lighter colors = lower values.\n",
        "    \n",
        "    It helps us see patterns, correlations, and outliers in data at a glance.\n",
        "\n",
        "    When should it be used?\n",
        "    - Visualizing Correlations.\n",
        "    - Highlighting High/Low Values.\n",
        "    - Working with Large Matrices.\n",
        "    - Detecting Patterns and Trends."
      ],
      "metadata": {
        "id": "DofKk9LvDPGl"
      }
    },
    {
      "cell_type": "markdown",
      "source": [
        "8.  What does the term “vectorized operation” mean in NumPy?\n",
        "    \n",
        "    In NumPy, a vectorized operation means performing operations on entire arrays (vectors, matrices, etc.) without using explicit loops.\n",
        "    - Instead of iterating through elements one by one (like in plain Python), NumPy applies the operation to the whole array at once using optimized C backend code.\n",
        "\n",
        "    Why is Vectorization Important?\n",
        "     -  Speed : Vectorized operations are much faster than Python loops.\n",
        "     - Cleaner code : More readable and concise.\n",
        "     - Memory efficiency : Uses NumPy’s contiguous memory blocks and avoids Python object overhead.\n",
        "     - Mathematical style : Closer to how operations are expressed in linear algebra.\n",
        "\n"
      ],
      "metadata": {
        "id": "hLQBPAzqDPKB"
      }
    },
    {
      "cell_type": "markdown",
      "source": [
        "9.  How does Matplotlib differ from Plotly?\n",
        "\n",
        "    **MATPLOTLIB:**\n",
        "    - Type: Static, 2D plotting library (can do 3D, but limited\n",
        "    - Style: Procedural, like MATLAB.\n",
        "    - Interactivity: Very limited (basic zoom, pan in Jupyter/IDE).\n",
        "    - Strengths:\n",
        "       - Oldest and most widely used plotting library in Python.\n",
        "       - Huge community + support.\n",
        "       - Excellent for publication-quality static plots (papers, reports).\n",
        "       - Foundation for other libraries like Seaborn.\n",
        "\n",
        "    - Weaknesses:\n",
        "       - Plots can look plain by default.\n",
        "       - Interactive features are minimal.\n",
        "       - Code sometimes verbose and less intuitive.\n",
        "\n",
        "    **PLOTLY:**\n",
        "    - Type: Interactive plotting library (works in browsers & Jupyter).\n",
        "    - Style: Declarative, intuitive.\n",
        "    - Interactivity: Excellent (hover tooltips, zoom, drag, 3D rotation).\n",
        "\n",
        "    - Strengths:\n",
        "      - Great for dashboards & web apps (works with Plotly Dash).\n",
        "      - Built-in 3D plotting.\n",
        "      - Plots look modern and appealing by default.\n",
        "      - Easy integration with Dash for interactive dashboards.\n",
        "\n",
        "    - Weaknesses:\n",
        "      - Heavier than Matplotlib (slower with huge datasets).\n",
        "      - Not as flexible for publication-style static plots."
      ],
      "metadata": {
        "id": "mGOBnuc2DPNH"
      }
    },
    {
      "cell_type": "markdown",
      "source": [
        "10.  What is the significance of hierarchical indexing in Pandas?\n",
        "\n",
        "    Hierarchical indexing (also called MultiIndex) in Pandas allows you to have multiple levels of indexes on rows (and even columns).\n",
        "        - It gives a way to work with higher-dimensional data (2D, 3D, …) within a 2D DataFrame.\n",
        "\n",
        "- Significance of Hierarchical Indexing:\n",
        "    - Represents Higher-Dimensional Data in 2D : Instead of creating multiple DataFrames, you can represent data with more than one key.\n",
        "    \n",
        "    Example: Sales data by City → Year → Month.\n",
        "\n",
        "    - Efficient Data Selection : You can select subsets of data using multiple keys (.loc, .xs).\n",
        "\n",
        "    - Improved Grouping and Aggregation : Works well with groupby() results, where the result often has multiple levels.\n",
        "\n",
        "    - Pivoting and Reshaping : Essential for reshaping with stack(), unstack(), and pivot_table().\n",
        "    \n",
        "    - Clarity in Complex Datasets : Allows more structured representation of data compared to flat indexing."
      ],
      "metadata": {
        "id": "LuiqBhRYDPQY"
      }
    },
    {
      "cell_type": "markdown",
      "source": [
        "11.  What is the role of Seaborn’s pairplot() function ?\n",
        "\n",
        "     The pairplot() function in Seaborn is used to create a grid of scatter plots for pairwise relationships in a dataset, along with histograms (or KDE plots) on the diagonal.\n",
        "       - It’s a quick and effective way to visualize relationships between multiple numerical features and check for correlations, distributions, and patterns.\n",
        "\n",
        "   Role / Purpose of pairplot()\n",
        "    - Visualize Pairwise Relationships:\n",
        "        - Plots every numerical column against every other column.\n",
        "        - Helps detect linear/non-linear relationships.\n",
        "    - Show Distributions of Individual Features:\n",
        "       - The diagonal of the grid shows histograms or KDE plots of each variable.\n",
        "\n",
        "    - Detect Correlations & Trends :\n",
        "       - Makes it easy to spot which features are positively/negatively correlated.\n",
        "\n",
        "    - Class Separation with Hue :\n",
        "       - You can color points by a categorical variable (hue) to see class separation.\n",
        "   \n",
        "    - Quick Exploratory Data Analysis (EDA) :\n",
        "       - Useful in the early stages of data analysis to get insights quickly."
      ],
      "metadata": {
        "id": "kg0_80YkDPTz"
      }
    },
    {
      "cell_type": "markdown",
      "source": [
        "12.  What is the purpose of the describe() function in Pandas ?\n",
        "\n",
        "     The describe( ) function in Pandas is used to generate descriptive statistics of a DataFrame or Series. It quickly summarizes the central tendency, dispersion, and distribution of the data.\n",
        "\n",
        "    - Default Output (for numeric columns):\n",
        "         By default, for numeric columns, it returns:\n",
        "         - count → Number of non-NA values\n",
        "         - mean → Average value\n",
        "         - std → Standard deviation (spread of values)\n",
        "         - min → Minimum value\n",
        "         - 25% → First quartile (Q1)\n",
        "         - 50% → Median (Q2)\n",
        "         - 75% → Third quartile (Q3)\n",
        "         - max → Maximum value\n",
        "\n",
        "    - For Categorical Data :\n",
        "       If you pass include=['object'] or include='all', describe() also summarizes categorical columns with:\n",
        "          - count → Number of non-missing values\n",
        "          - unique → Number of unique categories\n",
        "          - top → Most frequent category\n",
        "          - freq → Frequency of the top category"
      ],
      "metadata": {
        "id": "DnWfob7LDPYM"
      }
    },
    {
      "cell_type": "markdown",
      "source": [
        "13.  Why is handling missing data important in Pandas ?\n",
        "\n",
        "     In real-world datasets, missing values (NaN, None, or blanks) are very common.\n",
        "     - If not handled properly, they can distort analysis and lead to wrong conclusions.\n",
        "\n",
        "     Importance of Handling Missing Data :\n",
        "     - Avoids Errors in Computations : Many functions (like mean, sum, correlation) can behave unexpectedly with NaN.\n",
        "\n",
        "        - Example: df['col'].mean() will ignore NaN but may not reflect the true picture.\n",
        "        \n",
        "    - Prevents Model Bias in Machine Learning :\n",
        "        - ML algorithms (like regression, decision trees) cannot handle missing values directly.\n",
        "        - If missing data isn’t treated, the model may give biased or invalid predictions.\n",
        "\n",
        "     - Improves Data Quality :\n",
        "        - Clean datasets lead to reliable insights.\n",
        "        - Missing data may represent mistakes in data collection, sensor failures, or human input errors.\n",
        "        - Handling them ensures accuracy in results.\n",
        "\n",
        "     - Ensures Complete Analysis:\n",
        "        - If a column has many missing values, keeping it may mislead analysis.\n",
        "        - Sometimes dropping rows/columns with missing values is the right decision to avoid incomplete results.\n",
        "\n",
        "    - Enables Better Visualization :\n",
        "       - Plotting data with NaN values can cause gaps in graphs or errors in Seaborn/Matplotlib plots.\n",
        "       - Filling or removing missing data ensures smooth visualizations.\n",
        "\n",
        "\n",
        "  - Common Ways to Handle Missing Data\n",
        "      - Drop Missing Values :\n",
        "            - df.dropna() → remove rows with NaN\n",
        "            - df.dropna(axis=1) → remove columns with NaN\n",
        "\n",
        "      - Fill Missing Values (Imputation) :\n",
        "            - df.fillna(value) → replace with a fixed value\n",
        "            - Replace with mean, median, or mode\n",
        "            - Forward-fill (ffill) or Backward-fill (bfill\n",
        "            \n",
        "      - Advanced Techniques :\n",
        "            - Interpolation (df.interpolate())\n",
        "            - Predict missing values using ML models"
      ],
      "metadata": {
        "id": "JUN40q9hDQ_T"
      }
    },
    {
      "cell_type": "markdown",
      "source": [
        "14.  What are the benefits of using Plotly for data visualization ?\n",
        "\n",
        "    Plotly is a powerful Python library (also available in R, Julia, JavaScript) for creating interactive, publication-quality visualizations.\n",
        "    - It’s widely used in data science, machine learning, and analytics dashboards.\n",
        "\n",
        "    Key Benefits of Plotly\n",
        "    1. Interactivity by Default :  \n",
        "     - Unlike Matplotlib/Seaborn, which produce static plots, Plotly charts are interactive:      \n",
        "        - Zoom in/out\n",
        "        - Pan\n",
        "        - Hover tooltips\n",
        "        - Click legends to hide/show data\n",
        "\n",
        "    -  Makes it easier to explore data without rewriting code.\n",
        "\n",
        "    2. Wide Range of Visualizations :\n",
        "     - Supports both basic and advanced plots:\n",
        "         - Line, bar, scatter, histograms\n",
        "         - Heatmaps, contour plots\n",
        "         - 3D scatter, surface, mesh plots\n",
        "         - Geo maps & choropleth maps\n",
        "         \n",
        "     - Covers everything from simple EDA to complex dashboards.\n",
        "\n",
        "    3. Publication-Quality Graphics:   \n",
        "        - High-resolution, professional-looking charts.\n",
        "        - Export to PNG, JPEG, SVG, PDF or even interactive HTML (great for reports & web apps).\n",
        "\n",
        "    4. Seamless Integration with Dash :\n",
        "         - Plotly works natively with Dash, a framework to build full-fledged interactive web dashboards in Python (no JavaScript required).\n",
        "         - Perfect for data science apps and BI dashboards.\n",
        "\n",
        "    5. 3D and Geographic Visualizations:\n",
        "         - Easy-to-build 3D scatter plots, surface plots, and maps.\n",
        "         - Great for data with spatial or 3D structure.\n",
        "\n",
        "    6. Customizability :\n",
        "         - Flexible styling: change colors, themes, hover texts, axis labels, annotations, etc.\n",
        "         - Can make charts look modern and dynamic with minimal code.\n",
        "\n",
        "    7. Cross-Language & Web-Friendly:\n",
        "         - Works with Python, R, Julia, JavaScript.\n",
        "         - Charts can be embedded in Jupyter Notebooks, HTML, or dashboards.\n",
        "         - Interactive plots can be shared online without screenshots."
      ],
      "metadata": {
        "id": "639muDVwDRCf"
      }
    },
    {
      "cell_type": "markdown",
      "source": [
        "15.  How does NumPy handle multidimensional arrays ?\n",
        "     \n",
        "      NumPy’s main object is the ndarray (N-dimensional array).It can represent scalars (0D), vectors (1D), matrices (2D), and higher-dimensional tensors (3D, 4D, …).\n",
        "\n",
        "     NumPy handles multidimensional arrays by:\n",
        "     - Using ndarray objects\n",
        "     - Tracking dimensions with shape and axes\n",
        "     - Allowing indexing, slicing, reshaping\n",
        "     - Supporting broadcasting for different shapes\n",
        "     - Efficiently working with tensors (3D+)"
      ],
      "metadata": {
        "id": "Xy9ggOD0DRFB"
      }
    },
    {
      "cell_type": "markdown",
      "source": [
        "16.  What is the role of Bokeh in data visualization ?\n",
        "\n",
        "     Bokeh is a Python interactive visualization library designed to create modern, web-ready, interactive graphics.\n",
        "     - It focuses on building interactive dashboards, plots, and web applications with high performance.\n",
        "\n",
        "     Roles and Features of Bokeh\n",
        "    1. Interactive Visualizations :\n",
        "       - Unlike Matplotlib (static plots), Bokeh creates interactive plots: Zoom , Pan , Hover tooltips , Selections\n",
        "\n",
        "    2. Web Integration:\n",
        "       - Bokeh outputs JavaScript-powered visualizations.\n",
        "       - You can embed plots in:\n",
        "           - Web pages (HTML, Flask, Django)\n",
        "           - Jupyter Notebooks\n",
        "           - Bokeh Server apps for real-time streaming data\n",
        "\n",
        "    3. Big Data Handling:\n",
        "       - Works well with large or streaming datasets.\n",
        "       - Supports integration with Dask, Datashader, and Apache Spark for big data visualization.\n",
        "\n",
        "    4. High-Level & Low-Level Interfaces :\n",
        "       - High-level interface (bokeh.plotting) → Quick charts (scatter, bar, line).\n",
        "       - Low-level interface (bokeh.models) → Fine control for custom dashboards.\n",
        "\n",
        "    5. Custom Dashboards:\n",
        "       - With Bokeh Server, you can build interactive dashboards that update in real-time.\n",
        "          -  Example: stock market dashboards, IoT data monitoring.\n",
        "\n",
        "    6. Comparison with Other Libraries:\n",
        "        - Matplotlib/Seaborn → Static or basic interactive plots.\n",
        "        - Plotly → Interactive and web-based, but often heavier.\n",
        "        -  Bokeh → Focused on lightweight, interactive, real-time web apps.\n"
      ],
      "metadata": {
        "id": "2i9znaurDRHp"
      }
    },
    {
      "cell_type": "markdown",
      "source": [
        "17.  Explain the difference between apply() and map() in Pandas.\n",
        "\n",
        "     - Both apply() and map() are used to apply functions to elements of a DataFrame or Series, but they differ in scope and usage.\n",
        "\n",
        "     1. map() :\n",
        "         - Works only on Pandas Series (1D).\n",
        "         - Applies a function, dictionary, or Series element-wise\n",
        "         - Simpler and faster for element-wise transformations.\n",
        "\n",
        "     2. apply() :\n",
        "         - Can be used on both Series and DataFrame.\n",
        "         - On Series → behaves similar to map().\n",
        "         - On DataFrame → applies function along an axis (axis=0 for columns, axis=1 for rows).\n",
        "         - More powerful, supports complex operations."
      ],
      "metadata": {
        "id": "R50zrPlPDRKW"
      }
    },
    {
      "cell_type": "markdown",
      "source": [
        "18.  What are some advanced features of NumPy ?\n",
        "\n",
        "     1. Broadcasting :\n",
        "         - Ability to perform operations on arrays of different shapes without explicit looping.\n",
        "         - Saves memory and improves performance.\n",
        "\n",
        "     2. Vectorization :\n",
        "        - Replace slow Python loops with fast C-based operations.\n",
        "        - Makes computations much faster.\n",
        "\n",
        "     3. Advanced Indexing & Slicing:\n",
        "        - Supports boolean indexing, fancy indexing, slicing with steps, etc.\n",
        "        - Useful in data filtering and conditional selection.\n",
        "\n",
        "     4. Universal Functions (ufuncs) :\n",
        "        - Pre-built, optimized element-wise functions like np.sin, np.log, np.exp.\n",
        "        - Supports vectorized math and custom ufuncs.\n",
        "\n",
        "     5. Structured Arrays & Record Arrays:\n",
        "        - Allows arrays with heterogeneous data types (like SQL tables).\n",
        "        - Useful for scientific datasets.\n",
        "\n",
        "     6. Random Sampling & Distributions\n",
        "                 numpy.random provides tools for:\n",
        "         - Random sampling, shuffling, normal distribution, etc.\n",
        "         - Used in ML, statistics, simulations.\n",
        "\n",
        "\n",
        "\n",
        "\n"
      ],
      "metadata": {
        "id": "L5V5zazODRNP"
      }
    },
    {
      "cell_type": "markdown",
      "source": [
        "19.  How does Pandas simplify time series analysis ?\n",
        "\n",
        "     Time series analysis is one of Pandas’ strongest features, and it greatly simplifies working with date and time data compared to raw Python or NumPy.\n",
        "     - Here’s how Pandas simplifies time series analysis:\n",
        "\n",
        "     1. Datetime Handling:\n",
        "         - Provides pd.to_datetime() to easily convert strings into datetime64 objects.\n",
        "         - Eliminates manual parsing.\n",
        "\n",
        "     2. DatetimeIndex:\n",
        "         - Special index type optimized for time series.\n",
        "         - Enables powerful date-based indexing and slicing.\n",
        "\n",
        "     3. Resampling & Frequency Conversion : Easily aggregate data into different time frequencies (daily → monthly, hourly → weekly).\n",
        "\n",
        "     4. Shifting and Lagging : Built-in methods for lead/lag analysis.\n",
        "\n",
        "     5. Rolling & Moving Window Operations :simplifies moving averages, rolling sums, etc.\n",
        "\n",
        "     6. Time Zone Handling : Built-in time zone conversions.\n",
        "\n",
        "     7. Period & Business Date Support : Supports periods (quarters, business days, fiscal years).\n",
        "\n"
      ],
      "metadata": {
        "id": "9kJiT41ReUJ4"
      }
    },
    {
      "cell_type": "markdown",
      "source": [
        "20.  What is the role of a pivot table in Pandas ?\n",
        "\n",
        "    Role of Pivot Table in Pandas :\n",
        "\n",
        "    1. Data Summarization :\n",
        "       - Helps condense large datasets by grouping and aggregating values.\n",
        "       \n",
        "       Example: Average sales per region and product.\n",
        "       \n",
        "    2. Restructuring Data :\n",
        "        - Converts long (tidy) data into a wide format for easier analysis.\n",
        "        \n",
        "    3. Aggregation :\n",
        "       - Performs operations like mean, sum, count, min, max, etc. on grouped data.\n",
        "\n",
        "    4. Comparison :\n",
        "       - Makes it easier to compare categories across multiple dimensions (rows & columns).\n",
        "\n",
        "\n",
        "    Key Benefits of Pivot Tables in Pandas:\n",
        "\n",
        "        - Quickly summarize large datasets\n",
        "        - Flexible reshaping of data\n",
        "        - Multi-level aggregation (works with hierarchical indexes)\n",
        "        - Similar to Excel pivot tables but more powerful and programmable"
      ],
      "metadata": {
        "id": "8sBZyMeheUDA"
      }
    },
    {
      "cell_type": "markdown",
      "source": [
        "21.  Why is NumPy’s array slicing faster than Python’s list slicing ?\n",
        "\n",
        "    1. Memory Storage Difference:\n",
        "     - Python Lists:\n",
        "         - Are collections of pointers to objects scattered in memory.\n",
        "         - When slicing, Python needs to create a new list and copy the references, which is slower.\n",
        "\n",
        "     - NumPy Arrays:\n",
        "        - Store data in contiguous blocks of memory (like C arrays).\n",
        "        - Slicing does not copy data; instead, it creates a view of the original array without duplicating memory.\n",
        "\n",
        "    2. Vectorized Implementation:\n",
        "       - NumPy operations (including slicing) are implemented in C with highly optimized loops.\n",
        "       - Python lists rely on high-level interpreted loops, which are slower.\n",
        "\n",
        "    3. No Type Overhead :\n",
        "       - Python lists can hold mixed data types (int, float, string, etc.).\n",
        "       - NumPy arrays hold homogeneous data types (all integers, all floats, etc.).\n",
        "       - This reduces overhead during slicing, as NumPy doesn’t need to check the type of each element.\n",
        "\n",
        "       \n",
        "\n"
      ],
      "metadata": {
        "id": "RW_Hzp54eT7i"
      }
    },
    {
      "cell_type": "markdown",
      "source": [
        "22. What are some common use cases for Seaborn?\n",
        "  \n",
        "    1. Exploratory Data Analysis (EDA) :\n",
        "       - Quickly visualize relationships between variables.\n",
        "\n",
        "        Example: Using pairplot() to see pairwise correlations across all features in a dataset.\n",
        "\n",
        "    2. Distribution Analysis :\n",
        "       - Checking how data is distributed using:\n",
        "             - histplot() → histograms\n",
        "             - kdeplot() → kernel density estimates\n",
        "             - distplot() (older, now replaced by histplot())\n",
        "             \n",
        "       - Use case: Identifying skewness, outliers, or whether data is normally distributed.\n",
        "     \n",
        "    3. Correlation & Heatmaps:\n",
        "       - Visualizing correlations between variables using heatmap().\n",
        "       - Useful in feature selection during ML preprocessing.\n",
        "\n",
        "    4. Regression & Relationship Analysis:\n",
        "        - regplot() and lmplot() fit regression lines to data.\n",
        "        - Great for identifying linear/non-linear relationships between features.\n",
        "\n",
        "    5. Time Series Visualization :\n",
        "        - Using lineplot() to observe trends over time.\n",
        "\n",
        "         Example: Stock price trends, sales data, climate change patterns.\n",
        "\n",
        "     "
      ],
      "metadata": {
        "id": "q57RApo7eWGQ"
      }
    },
    {
      "cell_type": "markdown",
      "source": [
        "***PRACTICAL QUESTIONS***"
      ],
      "metadata": {
        "id": "hnuImUcdm-7k"
      }
    },
    {
      "cell_type": "markdown",
      "source": [
        "1. How do you create a 2D NumPy array and calculate the sum of each row ?"
      ],
      "metadata": {
        "id": "yUeF8JoVnhkP"
      }
    },
    {
      "cell_type": "code",
      "source": [
        "import numpy as np\n",
        "\n",
        "# Creating a 2D NumPy array\n",
        "arr = np.array([[1, 2, 3],\n",
        "                [4, 5, 6],\n",
        "                [7, 8, 9]])\n",
        "\n",
        "print(\"2D Array:\\n\", arr)\n",
        "\n",
        "# Row-wise sum (axis=1)\n",
        "row_sum = np.sum(arr, axis=1)\n",
        "\n",
        "print(\"Row-wise Sum:\", row_sum)\n"
      ],
      "metadata": {
        "colab": {
          "base_uri": "https://localhost:8080/",
          "height": 0
        },
        "id": "o_IQAOVJm-Ru",
        "outputId": "fd43fa4f-1aa9-46c6-9c55-59d0b19e54e1"
      },
      "execution_count": 2,
      "outputs": [
        {
          "output_type": "stream",
          "name": "stdout",
          "text": [
            "2D Array:\n",
            " [[1 2 3]\n",
            " [4 5 6]\n",
            " [7 8 9]]\n",
            "Row-wise Sum: [ 6 15 24]\n"
          ]
        }
      ]
    },
    {
      "cell_type": "markdown",
      "source": [
        "2.  Write a Pandas script to find the mean of a specific column in a DataFrame.\n",
        "\n"
      ],
      "metadata": {
        "id": "ajbBq6OLnjC-"
      }
    },
    {
      "cell_type": "code",
      "source": [
        "import pandas as pd\n",
        "\n",
        "# Sample DataFrame\n",
        "data = {\n",
        "    \"Name\": [\"Alice\", \"Bob\", \"Charlie\", \"David\"],\n",
        "    \"Age\": [25, 30, 35, 40],\n",
        "    \"Salary\": [50000, 60000, 75000, 80000]\n",
        "}\n",
        "\n",
        "df = pd.DataFrame(data)\n",
        "\n",
        "print(\"DataFrame:\\n\", df)\n",
        "\n",
        "# Find the mean of the 'Salary' column\n",
        "mean_salary = df[\"Salary\"].mean()\n",
        "\n",
        "print(\"\\nMean of Salary column:\", mean_salary)\n"
      ],
      "metadata": {
        "colab": {
          "base_uri": "https://localhost:8080/",
          "height": 0
        },
        "id": "gSZxGRETnit2",
        "outputId": "f15b2bb8-0794-4762-bdc3-d06c8f26ba07"
      },
      "execution_count": 3,
      "outputs": [
        {
          "output_type": "stream",
          "name": "stdout",
          "text": [
            "DataFrame:\n",
            "       Name  Age  Salary\n",
            "0    Alice   25   50000\n",
            "1      Bob   30   60000\n",
            "2  Charlie   35   75000\n",
            "3    David   40   80000\n",
            "\n",
            "Mean of Salary column: 66250.0\n"
          ]
        }
      ]
    },
    {
      "cell_type": "markdown",
      "source": [
        "3.  Create a scatter plot using Matplotlib."
      ],
      "metadata": {
        "id": "JIVMYnhboHFs"
      }
    },
    {
      "cell_type": "code",
      "source": [
        "import matplotlib.pyplot as plt\n",
        "\n",
        "# Sample data\n",
        "x = [5, 7, 8, 7, 6, 9, 5, 6, 7, 8]\n",
        "y = [99, 86, 87, 88, 100, 86, 103, 87, 94, 78]\n",
        "\n",
        "# Create scatter plot\n",
        "plt.scatter(x, y, color=\"blue\", marker=\"o\", s=100)  # s = size of points\n",
        "\n",
        "# Add labels and title\n",
        "plt.xlabel(\"X-axis values\")\n",
        "plt.ylabel(\"Y-axis values\")\n",
        "plt.title(\"Simple Scatter Plot\")\n",
        "\n",
        "# Show plot\n",
        "plt.show()\n"
      ],
      "metadata": {
        "colab": {
          "base_uri": "https://localhost:8080/",
          "height": 472
        },
        "id": "t0Flj4MGoGwK",
        "outputId": "824c825c-3df5-4b8a-b00a-32162c1d5faf"
      },
      "execution_count": 4,
      "outputs": [
        {
          "output_type": "display_data",
          "data": {
            "text/plain": [
              "<Figure size 640x480 with 1 Axes>"
            ],
            "image/png": "[encoded data removed]"
          },
          "metadata": {}
        }
      ]
    },
    {
      "cell_type": "markdown",
      "source": [
        "4.  How do you calculate the correlation matrix using Seaborn and visualize it with a heatmap\n",
        "\n"
      ],
      "metadata": {
        "id": "h2-FKGeNoYzr"
      }
    },
    {
      "cell_type": "code",
      "source": [
        "import pandas as pd\n",
        "import seaborn as sns\n",
        "import matplotlib.pyplot as plt\n",
        "\n",
        "# Sample DataFrame\n",
        "data = {\n",
        "    \"Math\": [88, 92, 80, 89, 100, 67, 75, 90],\n",
        "    \"Science\": [78, 85, 79, 92, 86, 73, 80, 95],\n",
        "    \"English\": [84, 90, 76, 88, 94, 70, 78, 85],\n",
        "    \"History\": [86, 87, 75, 90, 92, 72, 80, 88]\n",
        "}\n",
        "\n",
        "df = pd.DataFrame(data)\n",
        "\n",
        "# Calculate correlation matrix\n",
        "corr_matrix = df.corr()\n",
        "\n",
        "# Plot heatmap\n",
        "plt.figure(figsize=(8,6))\n",
        "sns.heatmap(corr_matrix, annot=True, cmap=\"coolwarm\", linewidths=0.5)\n",
        "\n",
        "plt.title(\"Correlation Matrix Heatmap\")\n",
        "plt.show()\n"
      ],
      "metadata": {
        "colab": {
          "base_uri": "https://localhost:8080/",
          "height": 545
        },
        "id": "D9m_3dYsoZGT",
        "outputId": "d25df1de-35d0-41bb-df5f-72c607d1d1ae"
      },
      "execution_count": 5,
      "outputs": [
        {
          "output_type": "display_data",
          "data": {
            "text/plain": [
              "<Figure size 800x600 with 2 Axes>"
            ],
            "image/png": "[encoded data removed]"
          },
          "metadata": {}
        }
      ]
    },
    {
      "cell_type": "markdown",
      "source": [
        "5.  Generate a bar plot using Plotly.\n"
      ],
      "metadata": {
        "id": "fNU2VdIZoo2r"
      }
    },
    {
      "cell_type": "code",
      "source": [
        "import plotly.express as px\n",
        "import pandas as pd\n",
        "\n",
        "# Sample data\n",
        "data = {\n",
        "    \"Subjects\": [\"Math\", \"Science\", \"English\", \"History\", \"Art\"],\n",
        "    \"Scores\": [88, 92, 85, 90, 76]\n",
        "}\n",
        "\n",
        "df = pd.DataFrame(data)\n",
        "\n",
        "# Create bar plot\n",
        "fig = px.bar(df, x=\"Subjects\", y=\"Scores\", title=\"Student Scores by Subject\",\n",
        "             color=\"Scores\", text=\"Scores\")\n",
        "\n",
        "# Show the plot\n",
        "fig.show()\n"
      ],
      "metadata": {
        "colab": {
          "base_uri": "https://localhost:8080/",
          "height": 542
        },
        "id": "teYVNtfvopvp",
        "outputId": "a9f37bde-8cd0-435b-cb96-b2e33daecb2d"
      },
      "execution_count": 6,
      "outputs": [
        {
          "output_type": "display_data",
          "data": {
            "text/html": [
              "<html>\n",
              "<head><meta charset=\"utf-8\" /></head>\n",
              "<body>\n",
              "    <div>            <script src=\"https://cdnjs.cloudflare.com/ajax/libs/mathjax/2.7.5/MathJax.js?config=TeX-AMS-MML_SVG\"></script><script type=\"text/javascript\">if (window.MathJax && window.MathJax.Hub && window.MathJax.Hub.Config) {window.MathJax.Hub.Config({SVG: {font: \"STIX-Web\"}});}</script>                <script type=\"text/javascript\">window.PlotlyConfig = {MathJaxConfig: 'local'};</script>\n",
              "        <script charset=\"utf-8\" src=\"https://cdn.plot.ly/plotly-2.35.2.min.js\"></script>                <div id=\"210149ed-ea2e-4ba0-aac4-64c6c52db42b\" class=\"plotly-graph-div\" style=\"height:525px; width:100%;\"></div>            <script type=\"text/javascript\">                                    window.PLOTLYENV=window.PLOTLYENV || {};                                    if (document.getElementById(\"210149ed-ea2e-4ba0-aac4-64c6c52db42b\")) {                    Plotly.newPlot(                        \"210149ed-ea2e-4ba0-aac4-64c6c52db42b\",                        [{\"alignmentgroup\":\"True\",\"hovertemplate\":\"Subjects=%{x}\\u003cbr\\u003eScores=%{marker.color}\\u003cextra\\u003e\\u003c\\u002fextra\\u003e\",\"legendgroup\":\"\",\"marker\":{\"color\":[88,92,85,90,76],\"coloraxis\":\"coloraxis\",\"pattern\":{\"shape\":\"\"}},\"name\":\"\",\"offsetgroup\":\"\",\"orientation\":\"v\",\"showlegend\":false,\"text\":[88.0,92.0,85.0,90.0,76.0],\"textposition\":\"auto\",\"x\":[\"Math\",\"Science\",\"English\",\"History\",\"Art\"],\"xaxis\":\"x\",\"y\":[88,92,85,90,76],\"yaxis\":\"y\",\"type\":\"bar\"}],                        {\"template\":{\"data\":{\"histogram2dcontour\":[{\"type\":\"histogram2dcontour\",\"colorbar\":{\"outlinewidth\":0,\"ticks\":\"\"},\"colorscale\":[[0.0,\"#0d0887\"],[0.1111111111111111,\"#46039f\"],[0.2222222222222222,\"#7201a8\"],[0.3333333333333333,\"#9c179e\"],[0.4444444444444444,\"#bd3786\"],[0.5555555555555556,\"#d8576b\"],[0.6666666666666666,\"#ed7953\"],[0.7777777777777778,\"#fb9f3a\"],[0.8888888888888888,\"#fdca26\"],[1.0,\"#f0f921\"]]}],\"choropleth\":[{\"type\":\"choropleth\",\"colorbar\":{\"outlinewidth\":0,\"ticks\":\"\"}}],\"histogram2d\":[{\"type\":\"histogram2d\",\"colorbar\":{\"outlinewidth\":0,\"ticks\":\"\"},\"colorscale\":[[0.0,\"#0d0887\"],[0.1111111111111111,\"#46039f\"],[0.2222222222222222,\"#7201a8\"],[0.3333333333333333,\"#9c179e\"],[0.4444444444444444,\"#bd3786\"],[0.5555555555555556,\"#d8576b\"],[0.6666666666666666,\"#ed7953\"],[0.7777777777777778,\"#fb9f3a\"],[0.8888888888888888,\"#fdca26\"],[1.0,\"#f0f921\"]]}],\"heatmap\":[{\"type\":\"heatmap\",\"colorbar\":{\"outlinewidth\":0,\"ticks\":\"\"},\"colorscale\":[[0.0,\"#0d0887\"],[0.1111111111111111,\"#46039f\"],[0.2222222222222222,\"#7201a8\"],[0.3333333333333333,\"#9c179e\"],[0.4444444444444444,\"#bd3786\"],[0.5555555555555556,\"#d8576b\"],[0.6666666666666666,\"#ed7953\"],[0.7777777777777778,\"#fb9f3a\"],[0.8888888888888888,\"#fdca26\"],[1.0,\"#f0f921\"]]}],\"heatmapgl\":[{\"type\":\"heatmapgl\",\"colorbar\":{\"outlinewidth\":0,\"ticks\":\"\"},\"colorscale\":[[0.0,\"#0d0887\"],[0.1111111111111111,\"#46039f\"],[0.2222222222222222,\"#7201a8\"],[0.3333333333333333,\"#9c179e\"],[0.4444444444444444,\"#bd3786\"],[0.5555555555555556,\"#d8576b\"],[0.6666666666666666,\"#ed7953\"],[0.7777777777777778,\"#fb9f3a\"],[0.8888888888888888,\"#fdca26\"],[1.0,\"#f0f921\"]]}],\"contourcarpet\":[{\"type\":\"contourcarpet\",\"colorbar\":{\"outlinewidth\":0,\"ticks\":\"\"}}],\"contour\":[{\"type\":\"contour\",\"colorbar\":{\"outlinewidth\":0,\"ticks\":\"\"},\"colorscale\":[[0.0,\"#0d0887\"],[0.1111111111111111,\"#46039f\"],[0.2222222222222222,\"#7201a8\"],[0.3333333333333333,\"#9c179e\"],[0.4444444444444444,\"#bd3786\"],[0.5555555555555556,\"#d8576b\"],[0.6666666666666666,\"#ed7953\"],[0.7777777777777778,\"#fb9f3a\"],[0.8888888888888888,\"#fdca26\"],[1.0,\"#f0f921\"]]}],\"surface\":[{\"type\":\"surface\",\"colorbar\":{\"outlinewidth\":0,\"ticks\":\"\"},\"colorscale\":[[0.0,\"#0d0887\"],[0.1111111111111111,\"#46039f\"],[0.2222222222222222,\"#7201a8\"],[0.3333333333333333,\"#9c179e\"],[0.4444444444444444,\"#bd3786\"],[0.5555555555555556,\"#d8576b\"],[0.6666666666666666,\"#ed7953\"],[0.7777777777777778,\"#fb9f3a\"],[0.8888888888888888,\"#fdca26\"],[1.0,\"#f0f921\"]]}],\"mesh3d\":[{\"type\":\"mesh3d\",\"colorbar\":{\"outlinewidth\":0,\"ticks\":\"\"}}],\"scatter\":[{\"fillpattern\":{\"fillmode\":\"overlay\",\"size\":10,\"solidity\":0.2},\"type\":\"scatter\"}],\"parcoords\":[{\"type\":\"parcoords\",\"line\":{\"colorbar\":{\"outlinewidth\":0,\"ticks\":\"\"}}}],\"scatterpolargl\":[{\"type\":\"scatterpolargl\",\"marker\":{\"colorbar\":{\"outlinewidth\":0,\"ticks\":\"\"}}}],\"bar\":[{\"error_x\":{\"color\":\"#2a3f5f\"},\"error_y\":{\"color\":\"#2a3f5f\"},\"marker\":{\"line\":{\"color\":\"#E5ECF6\",\"width\":0.5},\"pattern\":{\"fillmode\":\"overlay\",\"size\":10,\"solidity\":0.2}},\"type\":\"bar\"}],\"scattergeo\":[{\"type\":\"scattergeo\",\"marker\":{\"colorbar\":{\"outlinewidth\":0,\"ticks\":\"\"}}}],\"scatterpolar\":[{\"type\":\"scatterpolar\",\"marker\":{\"colorbar\":{\"outlinewidth\":0,\"ticks\":\"\"}}}],\"histogram\":[{\"marker\":{\"pattern\":{\"fillmode\":\"overlay\",\"size\":10,\"solidity\":0.2}},\"type\":\"histogram\"}],\"scattergl\":[{\"type\":\"scattergl\",\"marker\":{\"colorbar\":{\"outlinewidth\":0,\"ticks\":\"\"}}}],\"scatter3d\":[{\"type\":\"scatter3d\",\"line\":{\"colorbar\":{\"outlinewidth\":0,\"ticks\":\"\"}},\"marker\":{\"colorbar\":{\"outlinewidth\":0,\"ticks\":\"\"}}}],\"scattermapbox\":[{\"type\":\"scattermapbox\",\"marker\":{\"colorbar\":{\"outlinewidth\":0,\"ticks\":\"\"}}}],\"scatterternary\":[{\"type\":\"scatterternary\",\"marker\":{\"colorbar\":{\"outlinewidth\":0,\"ticks\":\"\"}}}],\"scattercarpet\":[{\"type\":\"scattercarpet\",\"marker\":{\"colorbar\":{\"outlinewidth\":0,\"ticks\":\"\"}}}],\"carpet\":[{\"aaxis\":{\"endlinecolor\":\"#2a3f5f\",\"gridcolor\":\"white\",\"linecolor\":\"white\",\"minorgridcolor\":\"white\",\"startlinecolor\":\"#2a3f5f\"},\"baxis\":{\"endlinecolor\":\"#2a3f5f\",\"gridcolor\":\"white\",\"linecolor\":\"white\",\"minorgridcolor\":\"white\",\"startlinecolor\":\"#2a3f5f\"},\"type\":\"carpet\"}],\"table\":[{\"cells\":{\"fill\":{\"color\":\"#EBF0F8\"},\"line\":{\"color\":\"white\"}},\"header\":{\"fill\":{\"color\":\"#C8D4E3\"},\"line\":{\"color\":\"white\"}},\"type\":\"table\"}],\"barpolar\":[{\"marker\":{\"line\":{\"color\":\"#E5ECF6\",\"width\":0.5},\"pattern\":{\"fillmode\":\"overlay\",\"size\":10,\"solidity\":0.2}},\"type\":\"barpolar\"}],\"pie\":[{\"automargin\":true,\"type\":\"pie\"}]},\"layout\":{\"autotypenumbers\":\"strict\",\"colorway\":[\"#636efa\",\"#EF553B\",\"#00cc96\",\"#ab63fa\",\"#FFA15A\",\"#19d3f3\",\"#FF6692\",\"#B6E880\",\"#FF97FF\",\"#FECB52\"],\"font\":{\"color\":\"#2a3f5f\"},\"hovermode\":\"closest\",\"hoverlabel\":{\"align\":\"left\"},\"paper_bgcolor\":\"white\",\"plot_bgcolor\":\"#E5ECF6\",\"polar\":{\"bgcolor\":\"#E5ECF6\",\"angularaxis\":{\"gridcolor\":\"white\",\"linecolor\":\"white\",\"ticks\":\"\"},\"radialaxis\":{\"gridcolor\":\"white\",\"linecolor\":\"white\",\"ticks\":\"\"}},\"ternary\":{\"bgcolor\":\"#E5ECF6\",\"aaxis\":{\"gridcolor\":\"white\",\"linecolor\":\"white\",\"ticks\":\"\"},\"baxis\":{\"gridcolor\":\"white\",\"linecolor\":\"white\",\"ticks\":\"\"},\"caxis\":{\"gridcolor\":\"white\",\"linecolor\":\"white\",\"ticks\":\"\"}},\"coloraxis\":{\"colorbar\":{\"outlinewidth\":0,\"ticks\":\"\"}},\"colorscale\":{\"sequential\":[[0.0,\"#0d0887\"],[0.1111111111111111,\"#46039f\"],[0.2222222222222222,\"#7201a8\"],[0.3333333333333333,\"#9c179e\"],[0.4444444444444444,\"#bd3786\"],[0.5555555555555556,\"#d8576b\"],[0.6666666666666666,\"#ed7953\"],[0.7777777777777778,\"#fb9f3a\"],[0.8888888888888888,\"#fdca26\"],[1.0,\"#f0f921\"]],\"sequentialminus\":[[0.0,\"#0d0887\"],[0.1111111111111111,\"#46039f\"],[0.2222222222222222,\"#7201a8\"],[0.3333333333333333,\"#9c179e\"],[0.4444444444444444,\"#bd3786\"],[0.5555555555555556,\"#d8576b\"],[0.6666666666666666,\"#ed7953\"],[0.7777777777777778,\"#fb9f3a\"],[0.8888888888888888,\"#fdca26\"],[1.0,\"#f0f921\"]],\"diverging\":[[0,\"#8e0152\"],[0.1,\"#c51b7d\"],[0.2,\"#de77ae\"],[0.3,\"#f1b6da\"],[0.4,\"#fde0ef\"],[0.5,\"#f7f7f7\"],[0.6,\"#e6f5d0\"],[0.7,\"#b8e186\"],[0.8,\"#7fbc41\"],[0.9,\"#4d9221\"],[1,\"#276419\"]]},\"xaxis\":{\"gridcolor\":\"white\",\"linecolor\":\"white\",\"ticks\":\"\",\"title\":{\"standoff\":15},\"zerolinecolor\":\"white\",\"automargin\":true,\"zerolinewidth\":2},\"yaxis\":{\"gridcolor\":\"white\",\"linecolor\":\"white\",\"ticks\":\"\",\"title\":{\"standoff\":15},\"zerolinecolor\":\"white\",\"automargin\":true,\"zerolinewidth\":2},\"scene\":{\"xaxis\":{\"backgroundcolor\":\"#E5ECF6\",\"gridcolor\":\"white\",\"linecolor\":\"white\",\"showbackground\":true,\"ticks\":\"\",\"zerolinecolor\":\"white\",\"gridwidth\":2},\"yaxis\":{\"backgroundcolor\":\"#E5ECF6\",\"gridcolor\":\"white\",\"linecolor\":\"white\",\"showbackground\":true,\"ticks\":\"\",\"zerolinecolor\":\"white\",\"gridwidth\":2},\"zaxis\":{\"backgroundcolor\":\"#E5ECF6\",\"gridcolor\":\"white\",\"linecolor\":\"white\",\"showbackground\":true,\"ticks\":\"\",\"zerolinecolor\":\"white\",\"gridwidth\":2}},\"shapedefaults\":{\"line\":{\"color\":\"#2a3f5f\"}},\"annotationdefaults\":{\"arrowcolor\":\"#2a3f5f\",\"arrowhead\":0,\"arrowwidth\":1},\"geo\":{\"bgcolor\":\"white\",\"landcolor\":\"#E5ECF6\",\"subunitcolor\":\"white\",\"showland\":true,\"showlakes\":true,\"lakecolor\":\"white\"},\"title\":{\"x\":0.05},\"mapbox\":{\"style\":\"light\"}}},\"xaxis\":{\"anchor\":\"y\",\"domain\":[0.0,1.0],\"title\":{\"text\":\"Subjects\"}},\"yaxis\":{\"anchor\":\"x\",\"domain\":[0.0,1.0],\"title\":{\"text\":\"Scores\"}},\"coloraxis\":{\"colorbar\":{\"title\":{\"text\":\"Scores\"}},\"colorscale\":[[0.0,\"#0d0887\"],[0.1111111111111111,\"#46039f\"],[0.2222222222222222,\"#7201a8\"],[0.3333333333333333,\"#9c179e\"],[0.4444444444444444,\"#bd3786\"],[0.5555555555555556,\"#d8576b\"],[0.6666666666666666,\"#ed7953\"],[0.7777777777777778,\"#fb9f3a\"],[0.8888888888888888,\"#fdca26\"],[1.0,\"#f0f921\"]]},\"legend\":{\"tracegroupgap\":0},\"title\":{\"text\":\"Student Scores by Subject\"},\"barmode\":\"relative\"},                        {\"responsive\": true}                    ).then(function(){\n",
              "                            \n",
              "var gd = document.getElementById('210149ed-ea2e-4ba0-aac4-64c6c52db42b');\n",
              "var x = new MutationObserver(function (mutations, observer) {{\n",
              "        var display = window.getComputedStyle(gd).display;\n",
              "        if (!display || display === 'none') {{\n",
              "            console.log([gd, 'removed!']);\n",
              "            Plotly.purge(gd);\n",
              "            observer.disconnect();\n",
              "        }}\n",
              "}});\n",
              "\n",
              "// Listen for the removal of the full notebook cells\n",
              "var notebookContainer = gd.closest('#notebook-container');\n",
              "if (notebookContainer) {{\n",
              "    x.observe(notebookContainer, {childList: true});\n",
              "}}\n",
              "\n",
              "// Listen for the clearing of the current output cell\n",
              "var outputEl = gd.closest('.output');\n",
              "if (outputEl) {{\n",
              "    x.observe(outputEl, {childList: true});\n",
              "}}\n",
              "\n",
              "                        })                };                            </script>        </div>\n",
              "</body>\n",
              "</html>"
            ]
          },
          "metadata": {}
        }
      ]
    },
    {
      "cell_type": "markdown",
      "source": [
        "6.  Create a DataFrame and add a new column based on an existing column\n"
      ],
      "metadata": {
        "id": "KXH-0o4FoqVX"
      }
    },
    {
      "cell_type": "code",
      "source": [
        "import pandas as pd\n",
        "\n",
        "# Create a sample DataFrame\n",
        "data = {\n",
        "    \"Name\": [\"Alice\", \"Bob\", \"Charlie\", \"David\"],\n",
        "    \"Marks\": [85, 72, 90, 60]\n",
        "}\n",
        "\n",
        "df = pd.DataFrame(data)\n",
        "\n",
        "# Add a new column 'Result' based on 'Marks'\n",
        "df[\"Result\"] = df[\"Marks\"].apply(lambda x: \"Pass\" if x >= 75 else \"Fail\")\n",
        "\n",
        "print(df)\n",
        "\n"
      ],
      "metadata": {
        "colab": {
          "base_uri": "https://localhost:8080/",
          "height": 0
        },
        "id": "tg3RqOMloqxT",
        "outputId": "319e963b-d320-484e-c784-8e3dc2384141"
      },
      "execution_count": 7,
      "outputs": [
        {
          "output_type": "stream",
          "name": "stdout",
          "text": [
            "      Name  Marks Result\n",
            "0    Alice     85   Pass\n",
            "1      Bob     72   Fail\n",
            "2  Charlie     90   Pass\n",
            "3    David     60   Fail\n"
          ]
        }
      ]
    },
    {
      "cell_type": "markdown",
      "source": [
        "7.  Write a program to perform element-wise multiplication of two NumPy arrays.\n"
      ],
      "metadata": {
        "id": "sOXUmbSjorJ_"
      }
    },
    {
      "cell_type": "code",
      "source": [
        "import numpy as np\n",
        "\n",
        "# Create two NumPy arrays\n",
        "arr1 = np.array([2, 4, 6, 8])\n",
        "arr2 = np.array([1, 3, 5, 7])\n",
        "\n",
        "# Perform element-wise multiplication\n",
        "result = arr1 * arr2   # or np.multiply(arr1, arr2)\n",
        "\n",
        "print(\"Array 1:\", arr1)\n",
        "print(\"Array 2:\", arr2)\n",
        "print(\"Element-wise Multiplication:\", result)\n"
      ],
      "metadata": {
        "colab": {
          "base_uri": "https://localhost:8080/",
          "height": 0
        },
        "id": "D00MZUTtornm",
        "outputId": "0b4ae3b5-d1a8-41fa-dc8a-1a1a28faa984"
      },
      "execution_count": 8,
      "outputs": [
        {
          "output_type": "stream",
          "name": "stdout",
          "text": [
            "Array 1: [2 4 6 8]\n",
            "Array 2: [1 3 5 7]\n",
            "Element-wise Multiplication: [ 2 12 30 56]\n"
          ]
        }
      ]
    },
    {
      "cell_type": "markdown",
      "source": [
        "8.  Create a line plot with multiple lines using Matplotlib."
      ],
      "metadata": {
        "id": "uapiZvZtor_a"
      }
    },
    {
      "cell_type": "code",
      "source": [
        "import matplotlib.pyplot as plt\n",
        "\n",
        "# Sample data\n",
        "x = [1, 2, 3, 4, 5]\n",
        "y1 = [2, 4, 6, 8, 10]\n",
        "y2 = [1, 2, 3, 4, 5]\n",
        "y3 = [2, 3, 5, 7, 11]\n",
        "\n",
        "# Create line plots\n",
        "plt.plot(x, y1, label=\"y = 2x\", marker=\"o\")\n",
        "plt.plot(x, y2, label=\"y = x\", marker=\"s\")\n",
        "plt.plot(x, y3, label=\"Prime numbers\", marker=\"^\")\n",
        "\n",
        "# Add title and labels\n",
        "plt.title(\"Multiple Line Plot Example\")\n",
        "plt.xlabel(\"X-axis\")\n",
        "plt.ylabel(\"Y-axis\")\n",
        "\n",
        "# Show legend\n",
        "plt.legend()\n",
        "\n",
        "# Display the plot\n",
        "plt.show()\n"
      ],
      "metadata": {
        "colab": {
          "base_uri": "https://localhost:8080/",
          "height": 472
        },
        "id": "0NMSGFlmosXY",
        "outputId": "60d94571-57ba-4a4b-c9d6-3af8ede52016"
      },
      "execution_count": 9,
      "outputs": [
        {
          "output_type": "display_data",
          "data": {
            "text/plain": [
              "<Figure size 640x480 with 1 Axes>"
            ],
            "image/png": "[encoded data removed]"
          },
          "metadata": {}
        }
      ]
    },
    {
      "cell_type": "markdown",
      "source": [
        "9.  Generate a Pandas DataFrame and filter rows where a column value is greater than a threshold."
      ],
      "metadata": {
        "id": "49iVyBHyoson"
      }
    },
    {
      "cell_type": "code",
      "source": [
        "import pandas as pd\n",
        "\n",
        "# Create a sample DataFrame\n",
        "data = {\n",
        "    \"Name\": [\"Alice\", \"Bob\", \"Charlie\", \"David\", \"Eva\"],\n",
        "    \"Age\": [25, 30, 35, 40, 22],\n",
        "    \"Score\": [85, 90, 78, 92, 88]\n",
        "}\n",
        "\n",
        "df = pd.DataFrame(data)\n",
        "\n",
        "print(\"Original DataFrame:\\n\", df)\n",
        "\n",
        "# Define threshold\n",
        "threshold = 30\n",
        "\n",
        "# Filter rows where Age > threshold\n",
        "filtered_df = df[df[\"Age\"] > threshold]\n",
        "\n",
        "print(\"\\nFiltered DataFrame (Age > 30):\\n\", filtered_df)\n"
      ],
      "metadata": {
        "colab": {
          "base_uri": "https://localhost:8080/",
          "height": 0
        },
        "id": "FZu_5EGpotOC",
        "outputId": "50138ed2-9989-4b79-af17-415304220988"
      },
      "execution_count": 10,
      "outputs": [
        {
          "output_type": "stream",
          "name": "stdout",
          "text": [
            "Original DataFrame:\n",
            "       Name  Age  Score\n",
            "0    Alice   25     85\n",
            "1      Bob   30     90\n",
            "2  Charlie   35     78\n",
            "3    David   40     92\n",
            "4      Eva   22     88\n",
            "\n",
            "Filtered DataFrame (Age > 30):\n",
            "       Name  Age  Score\n",
            "2  Charlie   35     78\n",
            "3    David   40     92\n"
          ]
        }
      ]
    },
    {
      "cell_type": "markdown",
      "source": [
        "10.  Create a histogram using Seaborn to visualize a distribution.\n"
      ],
      "metadata": {
        "id": "mo9wrMGsotyQ"
      }
    },
    {
      "cell_type": "code",
      "source": [
        "import seaborn as sns\n",
        "import matplotlib.pyplot as plt\n",
        "import numpy as np\n",
        "\n",
        "# Generate random data (normal distribution)\n",
        "data = np.random.randn(1000)\n",
        "\n",
        "# Create histogram\n",
        "sns.histplot(data, bins=30, kde=True, color=\"skyblue\")\n",
        "\n",
        "# Add labels and title\n",
        "plt.title(\"Distribution of Random Data\")\n",
        "plt.xlabel(\"Value\")\n",
        "plt.ylabel(\"Frequency\")\n",
        "\n",
        "# Show plot\n",
        "plt.show()\n"
      ],
      "metadata": {
        "colab": {
          "base_uri": "https://localhost:8080/",
          "height": 472
        },
        "id": "MRWzWhiiouun",
        "outputId": "73cb4810-3413-45c2-befd-fedbf394845b"
      },
      "execution_count": 11,
      "outputs": [
        {
          "output_type": "display_data",
          "data": {
            "text/plain": [
              "<Figure size 640x480 with 1 Axes>"
            ],
            "image/png": "[encoded data removed]"
          },
          "metadata": {}
        }
      ]
    },
    {
      "cell_type": "markdown",
      "source": [
        "11. Perform matrix multiplication using NumPy.\n"
      ],
      "metadata": {
        "id": "vsovDQIgpn70"
      }
    },
    {
      "cell_type": "code",
      "source": [
        "import numpy as np\n",
        "\n",
        "# Define two matrices\n",
        "A = np.array([[1, 2, 3],\n",
        "              [4, 5, 6]])\n",
        "\n",
        "B = np.array([[7, 8],\n",
        "              [9, 10],\n",
        "              [11, 12]])\n",
        "\n",
        "# Perform matrix multiplication\n",
        "C = np.dot(A, B)   # Method 1\n",
        "# or C = A @ B     # Method 2 (Python 3.5+)\n",
        "\n",
        "print(\"Matrix A:\\n\", A)\n",
        "print(\"Matrix B:\\n\", B)\n",
        "print(\"Result of Matrix Multiplication (A x B):\\n\", C)\n"
      ],
      "metadata": {
        "colab": {
          "base_uri": "https://localhost:8080/",
          "height": 0
        },
        "id": "GWezyi0jpoVR",
        "outputId": "1cf32e4f-267d-4a55-a982-025f6c9d2e71"
      },
      "execution_count": 12,
      "outputs": [
        {
          "output_type": "stream",
          "name": "stdout",
          "text": [
            "Matrix A:\n",
            " [[1 2 3]\n",
            " [4 5 6]]\n",
            "Matrix B:\n",
            " [[ 7  8]\n",
            " [ 9 10]\n",
            " [11 12]]\n",
            "Result of Matrix Multiplication (A x B):\n",
            " [[ 58  64]\n",
            " [139 154]]\n"
          ]
        }
      ]
    },
    {
      "cell_type": "markdown",
      "source": [
        "12.  Use Pandas to load a CSV file and display its first 5 rows."
      ],
      "metadata": {
        "id": "ee_bbBWNpo_r"
      }
    },
    {
      "cell_type": "code",
      "source": [
        "import pandas as pd\n",
        "\n",
        "# Load CSV file (replace 'your_file.csv' with actual file path or URL)\n",
        "df = pd.read_csv(\"taxonomy.csv\")\n",
        "\n",
        "# Display the first 5 rows\n",
        "print(df.head())\n"
      ],
      "metadata": {
        "colab": {
          "base_uri": "https://localhost:8080/",
          "height": 0
        },
        "id": "fUJ7tNjhppUw",
        "outputId": "f8472a1b-dc2c-4b71-8c17-a85fc2506852"
      },
      "execution_count": 15,
      "outputs": [
        {
          "output_type": "stream",
          "name": "stdout",
          "text": [
            "  taxonomy_id                     name parent_id     parent_name\n",
            "0         101                Emergency       NaN             NaN\n",
            "1      101-01        Disaster Response       101       Emergency\n",
            "2      101-02           Emergency Cash       101       Emergency\n",
            "3   101-02-01        Help Pay for Food    101-02  Emergency Cash\n",
            "4   101-02-02  Help Pay for Healthcare    101-02  Emergency Cash\n"
          ]
        }
      ]
    },
    {
      "cell_type": "markdown",
      "source": [
        "13.  Create a 3D scatter plot using Plotly.\n"
      ],
      "metadata": {
        "id": "LCoYGHWNppxy"
      }
    },
    {
      "cell_type": "code",
      "source": [
        "import plotly.express as px\n",
        "import pandas as pd\n",
        "import numpy as np\n",
        "\n",
        "# Create sample data\n",
        "np.random.seed(42)\n",
        "df = pd.DataFrame({\n",
        "    'x': np.random.randn(50),\n",
        "    'y': np.random.randn(50),\n",
        "    'z': np.random.randn(50),\n",
        "    'category': np.random.choice(['A', 'B', 'C'], size=50)\n",
        "})\n",
        "\n",
        "# Create 3D scatter plot\n",
        "fig = px.scatter_3d(\n",
        "    df,\n",
        "    x='x',\n",
        "    y='y',\n",
        "    z='z',\n",
        "    color='category',   # Different colors for categories\n",
        "    size_max=10,\n",
        "    opacity=0.7,\n",
        "    title=\"3D Scatter Plot with Plotly\"\n",
        ")\n",
        "\n",
        "fig.show()\n"
      ],
      "metadata": {
        "colab": {
          "base_uri": "https://localhost:8080/",
          "height": 542
        },
        "id": "g62cteQDpqK3",
        "outputId": "e707514c-dbff-4d82-b91e-f8d081b4a7a9"
      },
      "execution_count": 16,
      "outputs": [
        {
          "output_type": "display_data",
          "data": {
            "text/html": [
              "<html>\n",
              "<head><meta charset=\"utf-8\" /></head>\n",
              "<body>\n",
              "    <div>            <script src=\"https://cdnjs.cloudflare.com/ajax/libs/mathjax/2.7.5/MathJax.js?config=TeX-AMS-MML_SVG\"></script><script type=\"text/javascript\">if (window.MathJax && window.MathJax.Hub && window.MathJax.Hub.Config) {window.MathJax.Hub.Config({SVG: {font: \"STIX-Web\"}});}</script>                <script type=\"text/javascript\">window.PlotlyConfig = {MathJaxConfig: 'local'};</script>\n",
              "        <script charset=\"utf-8\" src=\"https://cdn.plot.ly/plotly-2.35.2.min.js\"></script>                <div id=\"c5e2f734-d6be-4bf7-8941-b0a5e42cdfcf\" class=\"plotly-graph-div\" style=\"height:525px; width:100%;\"></div>            <script type=\"text/javascript\">                                    window.PLOTLYENV=window.PLOTLYENV || {};                                    if (document.getElementById(\"c5e2f734-d6be-4bf7-8941-b0a5e42cdfcf\")) {                    Plotly.newPlot(                        \"c5e2f734-d6be-4bf7-8941-b0a5e42cdfcf\",                        [{\"hovertemplate\":\"category=B\\u003cbr\\u003ex=%{x}\\u003cbr\\u003ey=%{y}\\u003cbr\\u003ez=%{z}\\u003cextra\\u003e\\u003c\\u002fextra\\u003e\",\"legendgroup\":\"B\",\"marker\":{\"color\":\"#636efa\",\"opacity\":0.7,\"symbol\":\"circle\"},\"mode\":\"markers\",\"name\":\"B\",\"scene\":\"scene\",\"showlegend\":true,\"x\":[0.4967141530112327,-0.23415337472333597,-0.23413695694918055,0.7674347291529088,0.24196227156603412,-1.913280244657798,-1.7249178325130328,-0.5622875292409727,-1.0128311203344238,0.06752820468792384,-0.6017066122293969,-0.013497224737933921,-1.0577109289559004,0.822544912103189,-1.2208436499710222,0.2088635950047554,0.19686123586912352,-0.11564828238824053,-1.4785219903674274],\"y\":[0.324083969394795,1.030999522495951,0.9312801191161986,-0.3092123758512146,-1.1063349740060282,-1.1962066240806708,0.812525822394198,1.356240028570823,-0.07201012158033385,-0.03582603910995154,-0.21967188783751193,1.477894044741516,-0.5182702182736474,-0.8084936028931876,-0.5017570435845365,0.9154021177020741,0.5132674331133561,-0.7020530938773524,-0.39210815313215763],\"z\":[-1.4153707420504142,-0.16128571166600914,0.4040508568145384,0.17457781283183896,0.06023020994102644,2.463242112485286,-0.19236096478112252,0.30154734233361247,-0.03471176970524331,1.4027943109360992,-1.5506634310661327,-1.0623037137261049,0.4735924306351816,-0.9194242342338032,1.5499344050175394,-0.7832532923362371,-1.2308643164339552,-1.6074832345612275,0.25988279424842353],\"type\":\"scatter3d\"},{\"hovertemplate\":\"category=A\\u003cbr\\u003ex=%{x}\\u003cbr\\u003ey=%{y}\\u003cbr\\u003ez=%{z}\\u003cextra\\u003e\\u003c\\u002fextra\\u003e\",\"legendgroup\":\"A\",\"marker\":{\"color\":\"#EF553B\",\"opacity\":0.7,\"symbol\":\"circle\"},\"mode\":\"markers\",\"name\":\"A\",\"scene\":\"scene\",\"showlegend\":true,\"x\":[-0.13826430117118466,1.5230298564080254,-0.4694743859349521,-0.46341769281246226,-0.46572975357025687,-0.9080240755212109,-1.4123037013352915,1.465648768921554,-0.22577630048653566,-1.4247481862134568,-1.1509935774223028,0.37569801834567196,-1.9596701238797756,-0.3011036955892888,-0.7198442083947086,1.0571222262189157,0.3436182895684614,-1.763040155362734],\"y\":[-0.38508228041631654,0.6116762888408679,0.33126343140356396,-0.47917423784528995,-0.18565897666381712,0.36163602504763415,-0.6451197546051243,0.36139560550841393,1.5380365664659692,1.5646436558140062,0.08704706823817122,-0.29900735046586746,0.32875110965968446,-0.3276621465977682,-1.4635149481321186,0.26105527217988933,0.00511345664246089,-0.23458713337514692],\"z\":[-0.42064532276535904,-0.8022772692216189,0.25755039072276437,-1.9187712152990415,-0.026513875449216878,1.1428228145150205,0.7519330326867741,0.7910319470430469,-0.9093874547947389,-1.4018510627922809,-0.9905363251306883,-0.5662977296027719,-0.3220615162056756,0.1846338585323042,0.7818228717773104,-1.3204566130842763,0.5219415656168976,0.29698467323318606],\"type\":\"scatter3d\"},{\"hovertemplate\":\"category=C\\u003cbr\\u003ex=%{x}\\u003cbr\\u003ey=%{y}\\u003cbr\\u003ez=%{z}\\u003cextra\\u003e\\u003c\\u002fextra\\u003e\",\"legendgroup\":\"C\",\"marker\":{\"color\":\"#00cc96\",\"opacity\":0.7,\"symbol\":\"circle\"},\"mode\":\"markers\",\"name\":\"C\",\"scene\":\"scene\",\"showlegend\":true,\"x\":[0.6476885381006925,1.5792128155073915,0.5425600435859647,0.3142473325952739,-0.5443827245251827,0.11092258970986608,-0.600638689918805,-0.2916937497932768,1.8522781845089378,-1.3281860488984305,0.7384665799954104,0.1713682811899705,-0.4606387709597875],\"y\":[-0.6769220003059587,-0.8392175232226385,0.9755451271223592,1.0035328978920242,-2.6197451040897444,0.8219025043752238,0.0917607765355023,-1.9875689146008928,0.3571125715117464,-0.5297602037670388,0.09707754934804039,0.9686449905328892,0.29612027706457605],\"z\":[-0.3427145165267695,1.8861859012105302,-0.07444591576616721,-1.168678037619532,0.5868570938002703,2.1904556258099785,0.09965136508764122,-0.5034756541161992,0.06856297480602733,0.8135172173696698,0.22745993460412942,1.307142754282428,-1.236950710878082],\"type\":\"scatter3d\"}],                        {\"template\":{\"data\":{\"histogram2dcontour\":[{\"type\":\"histogram2dcontour\",\"colorbar\":{\"outlinewidth\":0,\"ticks\":\"\"},\"colorscale\":[[0.0,\"#0d0887\"],[0.1111111111111111,\"#46039f\"],[0.2222222222222222,\"#7201a8\"],[0.3333333333333333,\"#9c179e\"],[0.4444444444444444,\"#bd3786\"],[0.5555555555555556,\"#d8576b\"],[0.6666666666666666,\"#ed7953\"],[0.7777777777777778,\"#fb9f3a\"],[0.8888888888888888,\"#fdca26\"],[1.0,\"#f0f921\"]]}],\"choropleth\":[{\"type\":\"choropleth\",\"colorbar\":{\"outlinewidth\":0,\"ticks\":\"\"}}],\"histogram2d\":[{\"type\":\"histogram2d\",\"colorbar\":{\"outlinewidth\":0,\"ticks\":\"\"},\"colorscale\":[[0.0,\"#0d0887\"],[0.1111111111111111,\"#46039f\"],[0.2222222222222222,\"#7201a8\"],[0.3333333333333333,\"#9c179e\"],[0.4444444444444444,\"#bd3786\"],[0.5555555555555556,\"#d8576b\"],[0.6666666666666666,\"#ed7953\"],[0.7777777777777778,\"#fb9f3a\"],[0.8888888888888888,\"#fdca26\"],[1.0,\"#f0f921\"]]}],\"heatmap\":[{\"type\":\"heatmap\",\"colorbar\":{\"outlinewidth\":0,\"ticks\":\"\"},\"colorscale\":[[0.0,\"#0d0887\"],[0.1111111111111111,\"#46039f\"],[0.2222222222222222,\"#7201a8\"],[0.3333333333333333,\"#9c179e\"],[0.4444444444444444,\"#bd3786\"],[0.5555555555555556,\"#d8576b\"],[0.6666666666666666,\"#ed7953\"],[0.7777777777777778,\"#fb9f3a\"],[0.8888888888888888,\"#fdca26\"],[1.0,\"#f0f921\"]]}],\"heatmapgl\":[{\"type\":\"heatmapgl\",\"colorbar\":{\"outlinewidth\":0,\"ticks\":\"\"},\"colorscale\":[[0.0,\"#0d0887\"],[0.1111111111111111,\"#46039f\"],[0.2222222222222222,\"#7201a8\"],[0.3333333333333333,\"#9c179e\"],[0.4444444444444444,\"#bd3786\"],[0.5555555555555556,\"#d8576b\"],[0.6666666666666666,\"#ed7953\"],[0.7777777777777778,\"#fb9f3a\"],[0.8888888888888888,\"#fdca26\"],[1.0,\"#f0f921\"]]}],\"contourcarpet\":[{\"type\":\"contourcarpet\",\"colorbar\":{\"outlinewidth\":0,\"ticks\":\"\"}}],\"contour\":[{\"type\":\"contour\",\"colorbar\":{\"outlinewidth\":0,\"ticks\":\"\"},\"colorscale\":[[0.0,\"#0d0887\"],[0.1111111111111111,\"#46039f\"],[0.2222222222222222,\"#7201a8\"],[0.3333333333333333,\"#9c179e\"],[0.4444444444444444,\"#bd3786\"],[0.5555555555555556,\"#d8576b\"],[0.6666666666666666,\"#ed7953\"],[0.7777777777777778,\"#fb9f3a\"],[0.8888888888888888,\"#fdca26\"],[1.0,\"#f0f921\"]]}],\"surface\":[{\"type\":\"surface\",\"colorbar\":{\"outlinewidth\":0,\"ticks\":\"\"},\"colorscale\":[[0.0,\"#0d0887\"],[0.1111111111111111,\"#46039f\"],[0.2222222222222222,\"#7201a8\"],[0.3333333333333333,\"#9c179e\"],[0.4444444444444444,\"#bd3786\"],[0.5555555555555556,\"#d8576b\"],[0.6666666666666666,\"#ed7953\"],[0.7777777777777778,\"#fb9f3a\"],[0.8888888888888888,\"#fdca26\"],[1.0,\"#f0f921\"]]}],\"mesh3d\":[{\"type\":\"mesh3d\",\"colorbar\":{\"outlinewidth\":0,\"ticks\":\"\"}}],\"scatter\":[{\"fillpattern\":{\"fillmode\":\"overlay\",\"size\":10,\"solidity\":0.2},\"type\":\"scatter\"}],\"parcoords\":[{\"type\":\"parcoords\",\"line\":{\"colorbar\":{\"outlinewidth\":0,\"ticks\":\"\"}}}],\"scatterpolargl\":[{\"type\":\"scatterpolargl\",\"marker\":{\"colorbar\":{\"outlinewidth\":0,\"ticks\":\"\"}}}],\"bar\":[{\"error_x\":{\"color\":\"#2a3f5f\"},\"error_y\":{\"color\":\"#2a3f5f\"},\"marker\":{\"line\":{\"color\":\"#E5ECF6\",\"width\":0.5},\"pattern\":{\"fillmode\":\"overlay\",\"size\":10,\"solidity\":0.2}},\"type\":\"bar\"}],\"scattergeo\":[{\"type\":\"scattergeo\",\"marker\":{\"colorbar\":{\"outlinewidth\":0,\"ticks\":\"\"}}}],\"scatterpolar\":[{\"type\":\"scatterpolar\",\"marker\":{\"colorbar\":{\"outlinewidth\":0,\"ticks\":\"\"}}}],\"histogram\":[{\"marker\":{\"pattern\":{\"fillmode\":\"overlay\",\"size\":10,\"solidity\":0.2}},\"type\":\"histogram\"}],\"scattergl\":[{\"type\":\"scattergl\",\"marker\":{\"colorbar\":{\"outlinewidth\":0,\"ticks\":\"\"}}}],\"scatter3d\":[{\"type\":\"scatter3d\",\"line\":{\"colorbar\":{\"outlinewidth\":0,\"ticks\":\"\"}},\"marker\":{\"colorbar\":{\"outlinewidth\":0,\"ticks\":\"\"}}}],\"scattermapbox\":[{\"type\":\"scattermapbox\",\"marker\":{\"colorbar\":{\"outlinewidth\":0,\"ticks\":\"\"}}}],\"scatterternary\":[{\"type\":\"scatterternary\",\"marker\":{\"colorbar\":{\"outlinewidth\":0,\"ticks\":\"\"}}}],\"scattercarpet\":[{\"type\":\"scattercarpet\",\"marker\":{\"colorbar\":{\"outlinewidth\":0,\"ticks\":\"\"}}}],\"carpet\":[{\"aaxis\":{\"endlinecolor\":\"#2a3f5f\",\"gridcolor\":\"white\",\"linecolor\":\"white\",\"minorgridcolor\":\"white\",\"startlinecolor\":\"#2a3f5f\"},\"baxis\":{\"endlinecolor\":\"#2a3f5f\",\"gridcolor\":\"white\",\"linecolor\":\"white\",\"minorgridcolor\":\"white\",\"startlinecolor\":\"#2a3f5f\"},\"type\":\"carpet\"}],\"table\":[{\"cells\":{\"fill\":{\"color\":\"#EBF0F8\"},\"line\":{\"color\":\"white\"}},\"header\":{\"fill\":{\"color\":\"#C8D4E3\"},\"line\":{\"color\":\"white\"}},\"type\":\"table\"}],\"barpolar\":[{\"marker\":{\"line\":{\"color\":\"#E5ECF6\",\"width\":0.5},\"pattern\":{\"fillmode\":\"overlay\",\"size\":10,\"solidity\":0.2}},\"type\":\"barpolar\"}],\"pie\":[{\"automargin\":true,\"type\":\"pie\"}]},\"layout\":{\"autotypenumbers\":\"strict\",\"colorway\":[\"#636efa\",\"#EF553B\",\"#00cc96\",\"#ab63fa\",\"#FFA15A\",\"#19d3f3\",\"#FF6692\",\"#B6E880\",\"#FF97FF\",\"#FECB52\"],\"font\":{\"color\":\"#2a3f5f\"},\"hovermode\":\"closest\",\"hoverlabel\":{\"align\":\"left\"},\"paper_bgcolor\":\"white\",\"plot_bgcolor\":\"#E5ECF6\",\"polar\":{\"bgcolor\":\"#E5ECF6\",\"angularaxis\":{\"gridcolor\":\"white\",\"linecolor\":\"white\",\"ticks\":\"\"},\"radialaxis\":{\"gridcolor\":\"white\",\"linecolor\":\"white\",\"ticks\":\"\"}},\"ternary\":{\"bgcolor\":\"#E5ECF6\",\"aaxis\":{\"gridcolor\":\"white\",\"linecolor\":\"white\",\"ticks\":\"\"},\"baxis\":{\"gridcolor\":\"white\",\"linecolor\":\"white\",\"ticks\":\"\"},\"caxis\":{\"gridcolor\":\"white\",\"linecolor\":\"white\",\"ticks\":\"\"}},\"coloraxis\":{\"colorbar\":{\"outlinewidth\":0,\"ticks\":\"\"}},\"colorscale\":{\"sequential\":[[0.0,\"#0d0887\"],[0.1111111111111111,\"#46039f\"],[0.2222222222222222,\"#7201a8\"],[0.3333333333333333,\"#9c179e\"],[0.4444444444444444,\"#bd3786\"],[0.5555555555555556,\"#d8576b\"],[0.6666666666666666,\"#ed7953\"],[0.7777777777777778,\"#fb9f3a\"],[0.8888888888888888,\"#fdca26\"],[1.0,\"#f0f921\"]],\"sequentialminus\":[[0.0,\"#0d0887\"],[0.1111111111111111,\"#46039f\"],[0.2222222222222222,\"#7201a8\"],[0.3333333333333333,\"#9c179e\"],[0.4444444444444444,\"#bd3786\"],[0.5555555555555556,\"#d8576b\"],[0.6666666666666666,\"#ed7953\"],[0.7777777777777778,\"#fb9f3a\"],[0.8888888888888888,\"#fdca26\"],[1.0,\"#f0f921\"]],\"diverging\":[[0,\"#8e0152\"],[0.1,\"#c51b7d\"],[0.2,\"#de77ae\"],[0.3,\"#f1b6da\"],[0.4,\"#fde0ef\"],[0.5,\"#f7f7f7\"],[0.6,\"#e6f5d0\"],[0.7,\"#b8e186\"],[0.8,\"#7fbc41\"],[0.9,\"#4d9221\"],[1,\"#276419\"]]},\"xaxis\":{\"gridcolor\":\"white\",\"linecolor\":\"white\",\"ticks\":\"\",\"title\":{\"standoff\":15},\"zerolinecolor\":\"white\",\"automargin\":true,\"zerolinewidth\":2},\"yaxis\":{\"gridcolor\":\"white\",\"linecolor\":\"white\",\"ticks\":\"\",\"title\":{\"standoff\":15},\"zerolinecolor\":\"white\",\"automargin\":true,\"zerolinewidth\":2},\"scene\":{\"xaxis\":{\"backgroundcolor\":\"#E5ECF6\",\"gridcolor\":\"white\",\"linecolor\":\"white\",\"showbackground\":true,\"ticks\":\"\",\"zerolinecolor\":\"white\",\"gridwidth\":2},\"yaxis\":{\"backgroundcolor\":\"#E5ECF6\",\"gridcolor\":\"white\",\"linecolor\":\"white\",\"showbackground\":true,\"ticks\":\"\",\"zerolinecolor\":\"white\",\"gridwidth\":2},\"zaxis\":{\"backgroundcolor\":\"#E5ECF6\",\"gridcolor\":\"white\",\"linecolor\":\"white\",\"showbackground\":true,\"ticks\":\"\",\"zerolinecolor\":\"white\",\"gridwidth\":2}},\"shapedefaults\":{\"line\":{\"color\":\"#2a3f5f\"}},\"annotationdefaults\":{\"arrowcolor\":\"#2a3f5f\",\"arrowhead\":0,\"arrowwidth\":1},\"geo\":{\"bgcolor\":\"white\",\"landcolor\":\"#E5ECF6\",\"subunitcolor\":\"white\",\"showland\":true,\"showlakes\":true,\"lakecolor\":\"white\"},\"title\":{\"x\":0.05},\"mapbox\":{\"style\":\"light\"}}},\"scene\":{\"domain\":{\"x\":[0.0,1.0],\"y\":[0.0,1.0]},\"xaxis\":{\"title\":{\"text\":\"x\"}},\"yaxis\":{\"title\":{\"text\":\"y\"}},\"zaxis\":{\"title\":{\"text\":\"z\"}}},\"legend\":{\"title\":{\"text\":\"category\"},\"tracegroupgap\":0},\"title\":{\"text\":\"3D Scatter Plot with Plotly\"}},                        {\"responsive\": true}                    ).then(function(){\n",
              "                            \n",
              "var gd = document.getElementById('c5e2f734-d6be-4bf7-8941-b0a5e42cdfcf');\n",
              "var x = new MutationObserver(function (mutations, observer) {{\n",
              "        var display = window.getComputedStyle(gd).display;\n",
              "        if (!display || display === 'none') {{\n",
              "            console.log([gd, 'removed!']);\n",
              "            Plotly.purge(gd);\n",
              "            observer.disconnect();\n",
              "        }}\n",
              "}});\n",
              "\n",
              "// Listen for the removal of the full notebook cells\n",
              "var notebookContainer = gd.closest('#notebook-container');\n",
              "if (notebookContainer) {{\n",
              "    x.observe(notebookContainer, {childList: true});\n",
              "}}\n",
              "\n",
              "// Listen for the clearing of the current output cell\n",
              "var outputEl = gd.closest('.output');\n",
              "if (outputEl) {{\n",
              "    x.observe(outputEl, {childList: true});\n",
              "}}\n",
              "\n",
              "                        })                };                            </script>        </div>\n",
              "</body>\n",
              "</html>"
            ]
          },
          "metadata": {}
        }
      ]
    },
    {
      "cell_type": "code",
      "source": [],
      "metadata": {
        "id": "f2E47uoUqu9r"
      },
      "execution_count": null,
      "outputs": []
    }
  ]
}